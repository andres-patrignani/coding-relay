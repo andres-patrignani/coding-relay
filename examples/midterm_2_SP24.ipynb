{
 "cells": [
  {
   "cell_type": "markdown",
   "id": "f8be5b23-c786-4d63-961c-7c48f33a319a",
   "metadata": {},
   "source": [
    "# AGRON 845 - Mid-term Exam 2\n",
    "\n",
    "**Date**: 24 April 2024\n",
    "\n",
    "**Team names**: \n",
    "\n"
   ]
  },
  {
   "cell_type": "markdown",
   "id": "a7c2b7bb-1996-41b4-ae21-c3ed9cb517fa",
   "metadata": {},
   "source": [
    "## General Instructions\n",
    "\n",
    "The team has 50 minutes to solve the provided challenge. The team needs to work on a single computer. Each team member will have 10 minutes to code. When the time is up, a new team member will take the seat and code for another 10 minutes. You can choose the order of each person, but you can only repeat members after every group member had the chance to code for 10 minutes. Other team members can use their computers to help or assist the person that is coding.\n",
    "\n",
    "When you are done, upload the exam to Canvas. If for some reason the Canvas upload is not working, please send the exam to my e-mail:`andrespatrignani@ksu.edu`. \n",
    "\n",
    "Everything about your answer will be evaluated, including: code readability, documentation and comments, overall clarity and organization\n",
    "\n",
    "\n",
    "You are allowed to:\n",
    "\n",
    "- Use lecture notes\n",
    "- Use the help command `?`\n",
    "- Use library online documentation (e.g., Numpy documentation)\n",
    "\n",
    "You are NOT allowed to:\n",
    "- Use online search engines (e.g., Google, Bing, etc.)\n",
    "- Use copilot or generative AI tools"
   ]
  },
  {
   "cell_type": "markdown",
   "id": "c3fcedd0-fc9e-492e-8308-6c9b7dda6ca8",
   "metadata": {},
   "source": [
    "## Challenge\n",
    "\n",
    "\n",
    "The Proctor compaction test is typically used by engineers and soil scientists to determine the moisture content at which maximum bulk density occurs. The soil moisture at which the greatest compaction level is achieved is called the `critical moisture content` (CMC). From the agronomic point of view, the CMC is the soil moisture condition at which soil compaction due to farming machinery traffic could be greatest.\n",
    "\n",
    "Your goal is to use the data provided below to find the CMC at which the soil is most susceptible to compaction. This is probably a soil moisture content where we want to avoid getting into and driving across the field.\n",
    "\n",
    "**Data source**<br>\n",
    "\n",
    "The data source includes moisture levels and corresponding bulk density levels for a Richfield silt loam soil under continuous wheat in Tribune, KS. \n",
    "\n",
    "- Moisture content has units of % (This is the x variable)\n",
    "- Bulk density has units of $g/cm^3$ (This is the y variable)\n",
    "\n",
    "Data from `Figure 1B` in: Blanco‐Canqui, H., Stone, L. R., Schlegel, A. J., Benjamin, J. G., Vigil, M. F., & Stahlman, P. W. (2010). Continuous cropping systems reduce near‐surface maximum compaction in no‐till soils. Agronomy journal, 102(4), 1217-1225. https://doi.org/10.2134/agronj2010.0113\n",
    "\n",
    "\n",
    "\n"
   ]
  },
  {
   "cell_type": "code",
   "execution_count": null,
   "id": "5deb83d6-19a0-4762-86ca-086da46d73e8",
   "metadata": {},
   "outputs": [],
   "source": [
    "# Data\n",
    "bulk_density = [1.271, 1.333, 1.454, 1.517, 1.565, 1.576, 1.526, 1.454, 1.394, 1.297]\n",
    "moisture = [2.69, 7.39, 12.2, 14.9, 17.3, 19.7, 22.0, 25.4, 28.4, 33.0]\n"
   ]
  },
  {
   "cell_type": "code",
   "execution_count": null,
   "id": "c2179592-a7fe-45ed-b9db-823fb5d9e6f4",
   "metadata": {},
   "outputs": [],
   "source": [
    "# Import modules\n",
    "\n"
   ]
  },
  {
   "cell_type": "code",
   "execution_count": null,
   "id": "8d64f4b2-7298-49bf-8258-7d10efd07226",
   "metadata": {},
   "outputs": [],
   "source": [
    "# Create figure to inspect data\n",
    "# Add location in title\n",
    "# Add proper axis labels with units\n",
    "\n"
   ]
  },
  {
   "cell_type": "code",
   "execution_count": null,
   "id": "1f8b678c-237e-4dee-b200-979c02d583b5",
   "metadata": {},
   "outputs": [],
   "source": [
    "# Fit a polynomial model to the data\n",
    "\n"
   ]
  },
  {
   "cell_type": "code",
   "execution_count": null,
   "id": "a84521c8-7a45-4f7c-ab07-9e380c54700a",
   "metadata": {},
   "outputs": [],
   "source": [
    "# Print value of fitted parameters\n"
   ]
  },
  {
   "cell_type": "code",
   "execution_count": null,
   "id": "fe2f1954-3ddc-4209-b650-33951300fc54",
   "metadata": {},
   "outputs": [],
   "source": [
    "# Create figure showing the fitted model and the observed data points\n",
    "# Add a line to save the figure as figure_1.jpg with a resolution of 300 dpi\n",
    "\n"
   ]
  },
  {
   "cell_type": "code",
   "execution_count": null,
   "id": "ddfcce77-adaf-41a4-b3bf-675c961cb76a",
   "metadata": {},
   "outputs": [],
   "source": [
    "# Find and print the critical water content to one decimal place.\n",
    "\n"
   ]
  },
  {
   "cell_type": "markdown",
   "id": "0cb70048-fe3a-4ea2-9cdc-d987d2023c26",
   "metadata": {},
   "source": [
    "#### Write a brief statement explaining the significance of your finding.\n",
    "\n",
    "Answer:\n"
   ]
  }
 ],
 "metadata": {
  "kernelspec": {
   "display_name": "Python 3 (ipykernel)",
   "language": "python",
   "name": "python3"
  },
  "language_info": {
   "codemirror_mode": {
    "name": "ipython",
    "version": 3
   },
   "file_extension": ".py",
   "mimetype": "text/x-python",
   "name": "python",
   "nbconvert_exporter": "python",
   "pygments_lexer": "ipython3",
   "version": "3.10.9"
  }
 },
 "nbformat": 4,
 "nbformat_minor": 5
}
